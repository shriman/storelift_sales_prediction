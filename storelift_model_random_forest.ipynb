{
  "nbformat": 4,
  "nbformat_minor": 0,
  "metadata": {
    "colab": {
      "name": "storelift_model_random_forest.ipynb",
      "provenance": [],
      "authorship_tag": "ABX9TyNa+yVp+iV4ckMBQweT6BeG",
      "include_colab_link": true
    },
    "kernelspec": {
      "name": "python3",
      "display_name": "Python 3"
    },
    "language_info": {
      "name": "python"
    }
  },
  "cells": [
    {
      "cell_type": "markdown",
      "metadata": {
        "id": "view-in-github",
        "colab_type": "text"
      },
      "source": [
        "<a href=\"https://colab.research.google.com/github/shriman/storelift_sales_prediction/blob/main/storelift_model_random_forest.ipynb\" target=\"_parent\"><img src=\"https://colab.research.google.com/assets/colab-badge.svg\" alt=\"Open In Colab\"/></a>"
      ]
    },
    {
      "cell_type": "code",
      "metadata": {
        "colab": {
          "base_uri": "https://localhost:8080/"
        },
        "id": "uRN33o3kKrua",
        "outputId": "fa7a99e1-9c1e-41ed-cb5f-75da5bcd5a22"
      },
      "source": [
        "from google.colab import drive\n",
        "drive.mount('/content/drive')"
      ],
      "execution_count": 11,
      "outputs": [
        {
          "output_type": "stream",
          "text": [
            "Drive already mounted at /content/drive; to attempt to forcibly remount, call drive.mount(\"/content/drive\", force_remount=True).\n"
          ],
          "name": "stdout"
        }
      ]
    },
    {
      "cell_type": "code",
      "metadata": {
        "colab": {
          "base_uri": "https://localhost:8080/"
        },
        "id": "pw1XAgdCLFVX",
        "outputId": "aea1a03e-d168-482f-8c1f-59ae3d4607b0"
      },
      "source": [
        "# test runtime config\n",
        "from psutil import virtual_memory\n",
        "ram_gb = virtual_memory().total / 1e9\n",
        "print('Your runtime has {:.1f} gigabytes of available RAM\\n'.format(ram_gb))\n",
        "\n",
        "if ram_gb < 20:\n",
        "  print('To enable a high-RAM runtime, select the Runtime > \"Change runtime type\"')\n",
        "  print('menu, and then select High-RAM in the Runtime shape dropdown. Then, ')\n",
        "  print('re-execute this cell.')\n",
        "else:\n",
        "  print('You are using a high-RAM runtime!')"
      ],
      "execution_count": 12,
      "outputs": [
        {
          "output_type": "stream",
          "text": [
            "Your runtime has 13.7 gigabytes of available RAM\n",
            "\n",
            "To enable a high-RAM runtime, select the Runtime > \"Change runtime type\"\n",
            "menu, and then select High-RAM in the Runtime shape dropdown. Then, \n",
            "re-execute this cell.\n"
          ],
          "name": "stdout"
        }
      ]
    },
    {
      "cell_type": "markdown",
      "metadata": {
        "id": "55xHLYOALHAN"
      },
      "source": [
        "# Imports"
      ]
    },
    {
      "cell_type": "code",
      "metadata": {
        "id": "M4CmcLCsLJRE"
      },
      "source": [
        "import os\n",
        "import os\n",
        "import seaborn as sns\n",
        "from os import path\n",
        "import pandas as pd\n",
        "from IPython.display import display\n",
        "import numpy as np\n",
        "import matplotlib.pyplot as plt\n",
        "\n",
        "pd.options.display.max_columns = None\n",
        "pd.options.display.max_colwidth = 50\n",
        "\n",
        "data_path = '/content/drive/My Drive/Colab Notebooks/storelift/data'\n",
        "output_path = '/content/drive/My Drive/Colab Notebooks/storelift/outputs'"
      ],
      "execution_count": 13,
      "outputs": []
    },
    {
      "cell_type": "markdown",
      "metadata": {
        "id": "11kGbBBHLOBM"
      },
      "source": [
        "# Some helper functions"
      ]
    },
    {
      "cell_type": "code",
      "metadata": {
        "id": "M7tU5uc_LU24"
      },
      "source": [
        "def get_source_filename(data_path, filename, suffix=None):\n",
        "    if suffix:\n",
        "        return os.path.join(data_path, filename + '.' + suffix)\n",
        "    \n",
        "    return os.path.join(data_path, filename + '.csv' )"
      ],
      "execution_count": 14,
      "outputs": []
    },
    {
      "cell_type": "markdown",
      "metadata": {
        "id": "DLia-gGYLYgm"
      },
      "source": [
        "# Read dataset"
      ]
    },
    {
      "cell_type": "code",
      "metadata": {
        "id": "ormVK978LbXm"
      },
      "source": [
        "df_full_filename = get_source_filename(output_path, 'df_full')\n",
        "df_full = pd.read_csv(df_full_filename)"
      ],
      "execution_count": 15,
      "outputs": []
    },
    {
      "cell_type": "code",
      "metadata": {
        "colab": {
          "base_uri": "https://localhost:8080/",
          "height": 224
        },
        "id": "eXi3j-huLlE4",
        "outputId": "83082e71-ff4e-407b-9d36-619d510ca9f5"
      },
      "source": [
        "df_full.head()"
      ],
      "execution_count": 16,
      "outputs": [
        {
          "output_type": "execute_result",
          "data": {
            "text/html": [
              "<div>\n",
              "<style scoped>\n",
              "    .dataframe tbody tr th:only-of-type {\n",
              "        vertical-align: middle;\n",
              "    }\n",
              "\n",
              "    .dataframe tbody tr th {\n",
              "        vertical-align: top;\n",
              "    }\n",
              "\n",
              "    .dataframe thead th {\n",
              "        text-align: right;\n",
              "    }\n",
              "</style>\n",
              "<table border=\"1\" class=\"dataframe\">\n",
              "  <thead>\n",
              "    <tr style=\"text-align: right;\">\n",
              "      <th></th>\n",
              "      <th>day</th>\n",
              "      <th>product_id</th>\n",
              "      <th>day_product_id</th>\n",
              "      <th>target</th>\n",
              "      <th>price_avg_daily</th>\n",
              "      <th>has_expiration_int</th>\n",
              "      <th>category_combined_code</th>\n",
              "      <th>product_id_code</th>\n",
              "      <th>full_name_len</th>\n",
              "      <th>full_name_word_0</th>\n",
              "      <th>full_name_word_1</th>\n",
              "      <th>full_name_word_2</th>\n",
              "      <th>full_name_word_3</th>\n",
              "      <th>full_name_word_4</th>\n",
              "      <th>full_name_word_5</th>\n",
              "      <th>full_name_word_6</th>\n",
              "      <th>full_name_word_7</th>\n",
              "      <th>full_name_word_8</th>\n",
              "      <th>full_name_word_9</th>\n",
              "      <th>full_name_word_10</th>\n",
              "      <th>full_name_word_11</th>\n",
              "      <th>full_name_word_12</th>\n",
              "      <th>full_name_word_13</th>\n",
              "      <th>full_name_word_14</th>\n",
              "      <th>full_name_word_15</th>\n",
              "      <th>category_combined_len</th>\n",
              "      <th>category_combined_word_0</th>\n",
              "      <th>category_combined_word_1</th>\n",
              "      <th>levenshtein_dist</th>\n",
              "      <th>levenshtein_dist_ratio</th>\n",
              "      <th>returned_count</th>\n",
              "      <th>promotion_count</th>\n",
              "      <th>month</th>\n",
              "      <th>weekday</th>\n",
              "      <th>vat</th>\n",
              "      <th>is_confinement</th>\n",
              "      <th>is_summer</th>\n",
              "      <th>is_weekend</th>\n",
              "    </tr>\n",
              "  </thead>\n",
              "  <tbody>\n",
              "    <tr>\n",
              "      <th>0</th>\n",
              "      <td>1</td>\n",
              "      <td>5d0794866885630014681b97</td>\n",
              "      <td>1_5d0794866885630014681b97</td>\n",
              "      <td>8.0</td>\n",
              "      <td>268.03336</td>\n",
              "      <td>0.0</td>\n",
              "      <td>23.0</td>\n",
              "      <td>29.0</td>\n",
              "      <td>8.0</td>\n",
              "      <td>158.0</td>\n",
              "      <td>75.0</td>\n",
              "      <td>582.0</td>\n",
              "      <td>381.0</td>\n",
              "      <td>419.0</td>\n",
              "      <td>10.0</td>\n",
              "      <td>75.0</td>\n",
              "      <td>61.0</td>\n",
              "      <td>1.0</td>\n",
              "      <td>1.0</td>\n",
              "      <td>0.0</td>\n",
              "      <td>1.0</td>\n",
              "      <td>1.0</td>\n",
              "      <td>1.0</td>\n",
              "      <td>0.0</td>\n",
              "      <td>0.0</td>\n",
              "      <td>2.0</td>\n",
              "      <td>3.0</td>\n",
              "      <td>13.0</td>\n",
              "      <td>41.0</td>\n",
              "      <td>0.233766</td>\n",
              "      <td>0.0</td>\n",
              "      <td>0.0</td>\n",
              "      <td>8</td>\n",
              "      <td>5</td>\n",
              "      <td>0.2</td>\n",
              "      <td>0.0</td>\n",
              "      <td>1.0</td>\n",
              "      <td>1.0</td>\n",
              "    </tr>\n",
              "    <tr>\n",
              "      <th>1</th>\n",
              "      <td>2</td>\n",
              "      <td>5d0794866885630014681b97</td>\n",
              "      <td>2_5d0794866885630014681b97</td>\n",
              "      <td>8.0</td>\n",
              "      <td>268.03336</td>\n",
              "      <td>0.0</td>\n",
              "      <td>23.0</td>\n",
              "      <td>29.0</td>\n",
              "      <td>8.0</td>\n",
              "      <td>158.0</td>\n",
              "      <td>75.0</td>\n",
              "      <td>582.0</td>\n",
              "      <td>381.0</td>\n",
              "      <td>419.0</td>\n",
              "      <td>10.0</td>\n",
              "      <td>75.0</td>\n",
              "      <td>61.0</td>\n",
              "      <td>1.0</td>\n",
              "      <td>1.0</td>\n",
              "      <td>0.0</td>\n",
              "      <td>1.0</td>\n",
              "      <td>1.0</td>\n",
              "      <td>1.0</td>\n",
              "      <td>0.0</td>\n",
              "      <td>0.0</td>\n",
              "      <td>2.0</td>\n",
              "      <td>3.0</td>\n",
              "      <td>13.0</td>\n",
              "      <td>41.0</td>\n",
              "      <td>0.233766</td>\n",
              "      <td>0.0</td>\n",
              "      <td>0.0</td>\n",
              "      <td>8</td>\n",
              "      <td>5</td>\n",
              "      <td>0.2</td>\n",
              "      <td>0.0</td>\n",
              "      <td>1.0</td>\n",
              "      <td>1.0</td>\n",
              "    </tr>\n",
              "    <tr>\n",
              "      <th>2</th>\n",
              "      <td>3</td>\n",
              "      <td>5d0794866885630014681b97</td>\n",
              "      <td>3_5d0794866885630014681b97</td>\n",
              "      <td>8.0</td>\n",
              "      <td>268.03336</td>\n",
              "      <td>0.0</td>\n",
              "      <td>23.0</td>\n",
              "      <td>29.0</td>\n",
              "      <td>8.0</td>\n",
              "      <td>158.0</td>\n",
              "      <td>75.0</td>\n",
              "      <td>582.0</td>\n",
              "      <td>381.0</td>\n",
              "      <td>419.0</td>\n",
              "      <td>10.0</td>\n",
              "      <td>75.0</td>\n",
              "      <td>61.0</td>\n",
              "      <td>1.0</td>\n",
              "      <td>1.0</td>\n",
              "      <td>0.0</td>\n",
              "      <td>1.0</td>\n",
              "      <td>1.0</td>\n",
              "      <td>1.0</td>\n",
              "      <td>0.0</td>\n",
              "      <td>0.0</td>\n",
              "      <td>2.0</td>\n",
              "      <td>3.0</td>\n",
              "      <td>13.0</td>\n",
              "      <td>41.0</td>\n",
              "      <td>0.233766</td>\n",
              "      <td>0.0</td>\n",
              "      <td>0.0</td>\n",
              "      <td>8</td>\n",
              "      <td>5</td>\n",
              "      <td>0.2</td>\n",
              "      <td>0.0</td>\n",
              "      <td>1.0</td>\n",
              "      <td>1.0</td>\n",
              "    </tr>\n",
              "    <tr>\n",
              "      <th>3</th>\n",
              "      <td>4</td>\n",
              "      <td>5d0794866885630014681b97</td>\n",
              "      <td>4_5d0794866885630014681b97</td>\n",
              "      <td>8.0</td>\n",
              "      <td>268.03336</td>\n",
              "      <td>0.0</td>\n",
              "      <td>23.0</td>\n",
              "      <td>29.0</td>\n",
              "      <td>8.0</td>\n",
              "      <td>158.0</td>\n",
              "      <td>75.0</td>\n",
              "      <td>582.0</td>\n",
              "      <td>381.0</td>\n",
              "      <td>419.0</td>\n",
              "      <td>10.0</td>\n",
              "      <td>75.0</td>\n",
              "      <td>61.0</td>\n",
              "      <td>1.0</td>\n",
              "      <td>1.0</td>\n",
              "      <td>0.0</td>\n",
              "      <td>1.0</td>\n",
              "      <td>1.0</td>\n",
              "      <td>1.0</td>\n",
              "      <td>0.0</td>\n",
              "      <td>0.0</td>\n",
              "      <td>2.0</td>\n",
              "      <td>3.0</td>\n",
              "      <td>13.0</td>\n",
              "      <td>41.0</td>\n",
              "      <td>0.233766</td>\n",
              "      <td>0.0</td>\n",
              "      <td>0.0</td>\n",
              "      <td>8</td>\n",
              "      <td>5</td>\n",
              "      <td>0.2</td>\n",
              "      <td>0.0</td>\n",
              "      <td>1.0</td>\n",
              "      <td>1.0</td>\n",
              "    </tr>\n",
              "    <tr>\n",
              "      <th>4</th>\n",
              "      <td>5</td>\n",
              "      <td>5d0794866885630014681b97</td>\n",
              "      <td>5_5d0794866885630014681b97</td>\n",
              "      <td>8.0</td>\n",
              "      <td>268.03336</td>\n",
              "      <td>0.0</td>\n",
              "      <td>23.0</td>\n",
              "      <td>29.0</td>\n",
              "      <td>8.0</td>\n",
              "      <td>158.0</td>\n",
              "      <td>75.0</td>\n",
              "      <td>582.0</td>\n",
              "      <td>381.0</td>\n",
              "      <td>419.0</td>\n",
              "      <td>10.0</td>\n",
              "      <td>75.0</td>\n",
              "      <td>61.0</td>\n",
              "      <td>1.0</td>\n",
              "      <td>1.0</td>\n",
              "      <td>0.0</td>\n",
              "      <td>1.0</td>\n",
              "      <td>1.0</td>\n",
              "      <td>1.0</td>\n",
              "      <td>0.0</td>\n",
              "      <td>0.0</td>\n",
              "      <td>2.0</td>\n",
              "      <td>3.0</td>\n",
              "      <td>13.0</td>\n",
              "      <td>41.0</td>\n",
              "      <td>0.233766</td>\n",
              "      <td>0.0</td>\n",
              "      <td>0.0</td>\n",
              "      <td>8</td>\n",
              "      <td>5</td>\n",
              "      <td>0.2</td>\n",
              "      <td>0.0</td>\n",
              "      <td>1.0</td>\n",
              "      <td>1.0</td>\n",
              "    </tr>\n",
              "  </tbody>\n",
              "</table>\n",
              "</div>"
            ],
            "text/plain": [
              "   day                product_id              day_product_id  target  \\\n",
              "0    1  5d0794866885630014681b97  1_5d0794866885630014681b97     8.0   \n",
              "1    2  5d0794866885630014681b97  2_5d0794866885630014681b97     8.0   \n",
              "2    3  5d0794866885630014681b97  3_5d0794866885630014681b97     8.0   \n",
              "3    4  5d0794866885630014681b97  4_5d0794866885630014681b97     8.0   \n",
              "4    5  5d0794866885630014681b97  5_5d0794866885630014681b97     8.0   \n",
              "\n",
              "   price_avg_daily  has_expiration_int  category_combined_code  \\\n",
              "0        268.03336                 0.0                    23.0   \n",
              "1        268.03336                 0.0                    23.0   \n",
              "2        268.03336                 0.0                    23.0   \n",
              "3        268.03336                 0.0                    23.0   \n",
              "4        268.03336                 0.0                    23.0   \n",
              "\n",
              "   product_id_code  full_name_len  full_name_word_0  full_name_word_1  \\\n",
              "0             29.0            8.0             158.0              75.0   \n",
              "1             29.0            8.0             158.0              75.0   \n",
              "2             29.0            8.0             158.0              75.0   \n",
              "3             29.0            8.0             158.0              75.0   \n",
              "4             29.0            8.0             158.0              75.0   \n",
              "\n",
              "   full_name_word_2  full_name_word_3  full_name_word_4  full_name_word_5  \\\n",
              "0             582.0             381.0             419.0              10.0   \n",
              "1             582.0             381.0             419.0              10.0   \n",
              "2             582.0             381.0             419.0              10.0   \n",
              "3             582.0             381.0             419.0              10.0   \n",
              "4             582.0             381.0             419.0              10.0   \n",
              "\n",
              "   full_name_word_6  full_name_word_7  full_name_word_8  full_name_word_9  \\\n",
              "0              75.0              61.0               1.0               1.0   \n",
              "1              75.0              61.0               1.0               1.0   \n",
              "2              75.0              61.0               1.0               1.0   \n",
              "3              75.0              61.0               1.0               1.0   \n",
              "4              75.0              61.0               1.0               1.0   \n",
              "\n",
              "   full_name_word_10  full_name_word_11  full_name_word_12  full_name_word_13  \\\n",
              "0                0.0                1.0                1.0                1.0   \n",
              "1                0.0                1.0                1.0                1.0   \n",
              "2                0.0                1.0                1.0                1.0   \n",
              "3                0.0                1.0                1.0                1.0   \n",
              "4                0.0                1.0                1.0                1.0   \n",
              "\n",
              "   full_name_word_14  full_name_word_15  category_combined_len  \\\n",
              "0                0.0                0.0                    2.0   \n",
              "1                0.0                0.0                    2.0   \n",
              "2                0.0                0.0                    2.0   \n",
              "3                0.0                0.0                    2.0   \n",
              "4                0.0                0.0                    2.0   \n",
              "\n",
              "   category_combined_word_0  category_combined_word_1  levenshtein_dist  \\\n",
              "0                       3.0                      13.0              41.0   \n",
              "1                       3.0                      13.0              41.0   \n",
              "2                       3.0                      13.0              41.0   \n",
              "3                       3.0                      13.0              41.0   \n",
              "4                       3.0                      13.0              41.0   \n",
              "\n",
              "   levenshtein_dist_ratio  returned_count  promotion_count  month  weekday  \\\n",
              "0                0.233766             0.0              0.0      8        5   \n",
              "1                0.233766             0.0              0.0      8        5   \n",
              "2                0.233766             0.0              0.0      8        5   \n",
              "3                0.233766             0.0              0.0      8        5   \n",
              "4                0.233766             0.0              0.0      8        5   \n",
              "\n",
              "   vat  is_confinement  is_summer  is_weekend  \n",
              "0  0.2             0.0        1.0         1.0  \n",
              "1  0.2             0.0        1.0         1.0  \n",
              "2  0.2             0.0        1.0         1.0  \n",
              "3  0.2             0.0        1.0         1.0  \n",
              "4  0.2             0.0        1.0         1.0  "
            ]
          },
          "metadata": {
            "tags": []
          },
          "execution_count": 16
        }
      ]
    },
    {
      "cell_type": "code",
      "metadata": {
        "colab": {
          "base_uri": "https://localhost:8080/"
        },
        "id": "iJwm7TocMBEz",
        "outputId": "935b31c1-7a6e-4012-b59c-2aefd4dac376"
      },
      "source": [
        "# divide sets\n",
        "df_test = df_full[df_full['month'] == 2]\n",
        "df_valid = df_full[df_full['month'] == 1]\n",
        "df_train = df_full[df_full['month'] > 2 ]\n",
        "print(df_test.shape)\n",
        "print(df_valid.shape)\n",
        "print(df_train.shape)\n",
        "columns_to_drop = ['product_id', 'day_product_id', 'target']"
      ],
      "execution_count": 17,
      "outputs": [
        {
          "output_type": "stream",
          "text": [
            "(32704, 38)\n",
            "(9273, 38)\n",
            "(52046, 38)\n"
          ],
          "name": "stdout"
        }
      ]
    },
    {
      "cell_type": "markdown",
      "metadata": {
        "id": "qQc5JhHqLpMK"
      },
      "source": [
        "# ML Model: random forest regressor"
      ]
    },
    {
      "cell_type": "code",
      "metadata": {
        "id": "t7Zbwnq1LzO2"
      },
      "source": [
        "from sklearn.model_selection import GridSearchCV\n",
        "from sklearn.ensemble import RandomForestRegressor\n",
        "\n",
        "# Initialise the random forest model \n",
        "RandForest = RandomForestRegressor(n_jobs= -1, random_state = 0, bootstrap=True)\n",
        "\n",
        "# Set paramters for Grid Search\n",
        "param_grid =  {'n_estimators':[200, 300, 400, 500, 600],\n",
        "               'max_features':[0.1, 0.3, 0.6]\n",
        "              }\n",
        "\n",
        "# Initialise Gridsearch CV with 5 fold corssvalidation and neggative root_mean_squared_error\n",
        "Tuned_RandForest = GridSearchCV(estimator=RandForest, param_grid=param_grid, scoring='neg_root_mean_squared_error', cv=5)"
      ],
      "execution_count": 21,
      "outputs": []
    },
    {
      "cell_type": "code",
      "metadata": {
        "colab": {
          "base_uri": "https://localhost:8080/"
        },
        "id": "OLi-76ZrMElY",
        "outputId": "80aed1d3-975b-486a-9c11-058bf40749c3"
      },
      "source": [
        "# Fit model & Time the process for training the model\n",
        "import time\n",
        "start_time = time.process_time()\n",
        "Tuned_RandForest.fit(df_train.drop(columns=columns_to_drop), df_train['target'])\n",
        "# End of fit time\n",
        "print(time.process_time() - start_time, \"Seconds\")"
      ],
      "execution_count": 22,
      "outputs": [
        {
          "output_type": "stream",
          "text": [
            "223.55414378999998 Seconds\n"
          ],
          "name": "stdout"
        }
      ]
    },
    {
      "cell_type": "code",
      "metadata": {
        "id": "TS3VLxiyMJue"
      },
      "source": [
        "# Record the results for all models in a pandas dataframe and keep only the best model\n",
        "Results = pd.DataFrame(Tuned_RandForest.cv_results_)\n",
        "Results_Best = Results.loc[Results.rank_test_score==1]"
      ],
      "execution_count": 23,
      "outputs": []
    },
    {
      "cell_type": "code",
      "metadata": {
        "colab": {
          "base_uri": "https://localhost:8080/",
          "height": 168
        },
        "id": "fCm_TpUOMLNS",
        "outputId": "60ded7bf-8342-473a-f6bd-cf46a07aebde"
      },
      "source": [
        "print('Random Forest Regressor')\n",
        "Results_Best"
      ],
      "execution_count": 24,
      "outputs": [
        {
          "output_type": "stream",
          "text": [
            "Random Forest Regressor\n"
          ],
          "name": "stdout"
        },
        {
          "output_type": "execute_result",
          "data": {
            "text/html": [
              "<div>\n",
              "<style scoped>\n",
              "    .dataframe tbody tr th:only-of-type {\n",
              "        vertical-align: middle;\n",
              "    }\n",
              "\n",
              "    .dataframe tbody tr th {\n",
              "        vertical-align: top;\n",
              "    }\n",
              "\n",
              "    .dataframe thead th {\n",
              "        text-align: right;\n",
              "    }\n",
              "</style>\n",
              "<table border=\"1\" class=\"dataframe\">\n",
              "  <thead>\n",
              "    <tr style=\"text-align: right;\">\n",
              "      <th></th>\n",
              "      <th>mean_fit_time</th>\n",
              "      <th>std_fit_time</th>\n",
              "      <th>mean_score_time</th>\n",
              "      <th>std_score_time</th>\n",
              "      <th>param_max_features</th>\n",
              "      <th>param_n_estimators</th>\n",
              "      <th>params</th>\n",
              "      <th>split0_test_score</th>\n",
              "      <th>split1_test_score</th>\n",
              "      <th>split2_test_score</th>\n",
              "      <th>split3_test_score</th>\n",
              "      <th>split4_test_score</th>\n",
              "      <th>mean_test_score</th>\n",
              "      <th>std_test_score</th>\n",
              "      <th>rank_test_score</th>\n",
              "    </tr>\n",
              "  </thead>\n",
              "  <tbody>\n",
              "    <tr>\n",
              "      <th>6</th>\n",
              "      <td>19.154623</td>\n",
              "      <td>0.266879</td>\n",
              "      <td>0.307191</td>\n",
              "      <td>0.002115</td>\n",
              "      <td>0.3</td>\n",
              "      <td>300</td>\n",
              "      <td>{'max_features': 0.3, 'n_estimators': 300}</td>\n",
              "      <td>-5.98002</td>\n",
              "      <td>-2.994016</td>\n",
              "      <td>-3.954781</td>\n",
              "      <td>-3.710317</td>\n",
              "      <td>-2.227665</td>\n",
              "      <td>-3.77336</td>\n",
              "      <td>1.257202</td>\n",
              "      <td>1</td>\n",
              "    </tr>\n",
              "  </tbody>\n",
              "</table>\n",
              "</div>"
            ],
            "text/plain": [
              "   mean_fit_time  std_fit_time  mean_score_time  std_score_time  \\\n",
              "6      19.154623      0.266879         0.307191        0.002115   \n",
              "\n",
              "  param_max_features param_n_estimators  \\\n",
              "6                0.3                300   \n",
              "\n",
              "                                       params  split0_test_score  \\\n",
              "6  {'max_features': 0.3, 'n_estimators': 300}           -5.98002   \n",
              "\n",
              "   split1_test_score  split2_test_score  split3_test_score  split4_test_score  \\\n",
              "6          -2.994016          -3.954781          -3.710317          -2.227665   \n",
              "\n",
              "   mean_test_score  std_test_score  rank_test_score  \n",
              "6         -3.77336        1.257202                1  "
            ]
          },
          "metadata": {
            "tags": []
          },
          "execution_count": 24
        }
      ]
    },
    {
      "cell_type": "code",
      "metadata": {
        "colab": {
          "base_uri": "https://localhost:8080/"
        },
        "id": "HE1g7o3WND7h",
        "outputId": "904d0848-1298-454a-9fcb-77978694a060"
      },
      "source": [
        "from sklearn.metrics import mean_squared_error\n",
        "rmse = mean_squared_error(df_train['target'], Tuned_RandForest.predict(df_train.drop(columns=columns_to_drop)), squared=False)\n",
        "print(\"The root mean squared error (RMSE) on train set: {:.4f}\".format(rmse))"
      ],
      "execution_count": 28,
      "outputs": [
        {
          "output_type": "stream",
          "text": [
            "The root mean squared error (RMSE) on train set: 0.2342\n"
          ],
          "name": "stdout"
        }
      ]
    },
    {
      "cell_type": "code",
      "metadata": {
        "colab": {
          "base_uri": "https://localhost:8080/"
        },
        "id": "WM47O9rDMec0",
        "outputId": "18a0dd05-c753-48b9-c175-f2013b2820b3"
      },
      "source": [
        "rmse = mean_squared_error(df_valid['target'], Tuned_RandForest.predict(df_valid.drop(columns=columns_to_drop)), squared=False)\n",
        "print(\"The root mean squared error (RMSE) on validation set: {:.4f}\".format(rmse))"
      ],
      "execution_count": 29,
      "outputs": [
        {
          "output_type": "stream",
          "text": [
            "The root mean squared error (RMSE) on validation set: 2.2330\n"
          ],
          "name": "stdout"
        }
      ]
    }
  ]
}